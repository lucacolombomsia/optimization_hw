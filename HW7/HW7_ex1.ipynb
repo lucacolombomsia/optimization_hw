{
 "cells": [
  {
   "cell_type": "code",
   "execution_count": 1,
   "metadata": {},
   "outputs": [],
   "source": [
    "import pandas as pd\n",
    "from itertools import permutations\n",
    "from itertools import combinations\n",
    "from pulp import *\n",
    "from datetime import datetime\n",
    "\n",
    "def calculate_distance_haversine(lat1, lon1, lat2, lon2):\n",
    "    # radius of earth\n",
    "    from math import radians, cos, sin, asin, sqrt\n",
    "    r = 3962.173405788\n",
    "\n",
    "    # convert decimal degrees to radians\n",
    "    lat1, lon1, lat2, lon2 = [radians(x) for x in [lat1, lon1, lat2, lon2]]\n",
    "    dlon = lon2 - lon1\n",
    "    dlat = lat2 - lat1\n",
    "    a = sin(dlat / 2) ** 2 + cos(lat1) * cos(lat2) * sin(dlon / 2) ** 2\n",
    "    c = 2 * asin(sqrt(a))\n",
    "    return r * c\n",
    "\n",
    "\n",
    "# Create the distance matrix between every two locations\n",
    "def create_distance_matrix(locations):\n",
    "    distance_matrix = {}\n",
    "    for ind1, loc1 in locations.iterrows():\n",
    "        for ind2, loc2 in locations.iterrows():\n",
    "            dist = calculate_distance_haversine(loc1['Lat'], loc1['Long'], loc2['Lat'], loc2['Long'])\n",
    "            distance_matrix[(ind1, ind2)] = dist\n",
    "    return distance_matrix"
   ]
  },
  {
   "cell_type": "code",
   "execution_count": 2,
   "metadata": {},
   "outputs": [],
   "source": [
    "cust = pd.read_csv('manhattan_customers.csv')\n",
    "dist = create_distance_matrix(cust)"
   ]
  },
  {
   "cell_type": "code",
   "execution_count": 3,
   "metadata": {},
   "outputs": [
    {
     "name": "stdout",
     "output_type": "stream",
     "text": [
      "0.0\n",
      "3.405710719794919\n"
     ]
    }
   ],
   "source": [
    "print(dist[0,0])\n",
    "print(dist[0,20])"
   ]
  },
  {
   "cell_type": "markdown",
   "metadata": {},
   "source": [
    "### Worst possible solution: 20 vehicles making 1 stop"
   ]
  },
  {
   "cell_type": "code",
   "execution_count": 4,
   "metadata": {},
   "outputs": [
    {
     "data": {
      "text/plain": [
       "132.7459446237727"
      ]
     },
     "execution_count": 4,
     "metadata": {},
     "output_type": "execute_result"
    }
   ],
   "source": [
    "tot_dist = 0\n",
    "for x in range(1,21):\n",
    "    index = (0, x)\n",
    "    tot_dist += 2*dist[index]\n",
    "tot_dist"
   ]
  },
  {
   "cell_type": "markdown",
   "metadata": {},
   "source": [
    "### Model in pulp"
   ]
  },
  {
   "cell_type": "code",
   "execution_count": 5,
   "metadata": {
    "scrolled": true
   },
   "outputs": [],
   "source": [
    "destinations = list(range(1,21))\n",
    "routes_3stop = list(permutations(destinations, 3)) #3420 routes (order matters, but only partially)\n",
    "routes_2stop = list(combinations(destinations, 2)) #190 routes (order doesn't matter)\n",
    "routes_1stop = list(permutations(destinations, 1)) #20 routes\n",
    "routes = routes_3stop + routes_2stop + routes_1stop\n",
    "routes = [tuple([0]) + x + tuple([0]) for x in routes]"
   ]
  },
  {
   "cell_type": "code",
   "execution_count": 6,
   "metadata": {},
   "outputs": [],
   "source": [
    "#compute distance of each route\n",
    "#also, create vector that tells you stops covered by each route\n",
    "route_info = []\n",
    "for route in routes:\n",
    "    tot_dist = 0\n",
    "    vector = [0]*21\n",
    "    for x in range(len(route)-1):\n",
    "        tot_dist += dist[(route[x], route[x+1])]\n",
    "        vector[route[x]] = 1\n",
    "    short_route = [str(x) for x in route[1:len(route)-1]]\n",
    "    name = '-'.join(short_route)\n",
    "    vector = [str(x) for x in vector[1:21]]\n",
    "    route_info.append([name, tot_dist, ','.join(vector)])"
   ]
  },
  {
   "cell_type": "code",
   "execution_count": 7,
   "metadata": {},
   "outputs": [],
   "source": [
    "output = pd.DataFrame(route_info, columns = ['Route', 'Distance', 'Stops'])\n",
    "output.Distance = round(output.Distance, 6)\n",
    "output = output.drop_duplicates(subset=['Stops', 'Distance'])\n",
    "\n",
    "#export the data to CSV\n",
    "#this csv will be imported in Excel and the problem can be solved using OpenSolver\n",
    "output.to_csv('HW7_py_output.csv', index = False)"
   ]
  },
  {
   "cell_type": "code",
   "execution_count": 8,
   "metadata": {},
   "outputs": [
    {
     "name": "stdout",
     "output_type": "stream",
     "text": [
      "There are a total of 3630 possible routes\n"
     ]
    }
   ],
   "source": [
    "route_info = output.values.tolist()\n",
    "print('There are a total of {} possible routes'.format(len(route_info))) #expect 3630"
   ]
  },
  {
   "cell_type": "code",
   "execution_count": 9,
   "metadata": {},
   "outputs": [
    {
     "name": "stdout",
     "output_type": "stream",
     "text": [
      "Status: Optimal\n",
      "13_17_16 is one of the chosen routes\n",
      "15_14_18 is one of the chosen routes\n",
      "2_19 is one of the chosen routes\n",
      "3_5_6 is one of the chosen routes\n",
      "4_20_11 is one of the chosen routes\n",
      "7_12_21 is one of the chosen routes\n",
      "9_8_10 is one of the chosen routes\n",
      "The model selected a total of 7 routes\n",
      "Total Distance =  50.724607\n",
      "Total Runtime was 2.64 seconds\n"
     ]
    }
   ],
   "source": [
    "start=datetime.now()\n",
    "\n",
    "#Create a list of all the routes\n",
    "List_Routes = [x[0] for x in route_info]\n",
    "\n",
    "#Create a dictionary of the distances of the routes\n",
    "Distances = {}\n",
    "for x in route_info:\n",
    "    Distances[x[0]] = x[1]\n",
    "\n",
    "#Create a list of all the stops\n",
    "Stops = ['S{}'.format(i) for i in range(1,21)]\n",
    "\n",
    "#Create a dictionary that accounts for the stops covereb by each route\n",
    "Stops_Covered = {}\n",
    "for x in route_info:\n",
    "    bin_vec = x[2].split(',')\n",
    "    Stops_Covered[x[0]] = {Stops[i]:int(bin_vec[i]) for i in range(len(Stops))}\n",
    "\n",
    "# Create the 'prob' variable to contain the problem data\n",
    "prob = LpProblem(\"Manhattan_Routing\", LpMinimize)\n",
    "\n",
    "# Create the Variables\n",
    "routes_vars = {}\n",
    "for r in List_Routes:\n",
    "    route_name = '_'.join([str(int(x)+1) for x in r.split('-')])\n",
    "    routes_vars[r] = LpVariable(\"{}\".format(route_name),lowBound=0,upBound=1,cat=LpBinary)\n",
    "\n",
    "# The objective function is added to 'prob' first\n",
    "prob += lpSum([Distances[r]*routes_vars[r] for r in List_Routes]), \"Total Distance\"\n",
    "\n",
    "# We can enter the constraints\n",
    "# Need to stop at all clients, but never more than once\n",
    "for s in Stops:\n",
    "    prob += lpSum([routes_vars[r]*Stops_Covered[r][s] for r in List_Routes]) == 1, s\n",
    "    \n",
    "# The problem data is written to an .lp file\n",
    "prob.writeLP(\"Manhattan_Routing.lp\")\n",
    "\n",
    "# The problem is solved using PuLP's choice of Solver\n",
    "prob.solve()\n",
    "\n",
    "# The status of the solution is printed to the screen\n",
    "print(\"Status:\", LpStatus[prob.status])\n",
    "\n",
    "# Each of the variables is printed with it's resolved optimum value\n",
    "counter = 0\n",
    "for v in prob.variables():\n",
    "    if v.varValue == 1:\n",
    "        print('{} is one of the chosen routes'.format(v.name))\n",
    "        counter += 1\n",
    "print('The model selected a total of {} routes'.format(counter))\n",
    "    \n",
    "# The optimised objective function value is printed to the screen\n",
    "print(\"Total Distance = \", value(prob.objective))\n",
    "\n",
    "dur = datetime.now() - start\n",
    "dur_f = round(dur.total_seconds(), 2)\n",
    "print(\"Total Runtime was {} seconds\".format(dur_f))"
   ]
  },
  {
   "cell_type": "code",
   "execution_count": null,
   "metadata": {},
   "outputs": [],
   "source": []
  }
 ],
 "metadata": {
  "kernelspec": {
   "display_name": "Python 3",
   "language": "python",
   "name": "python3"
  },
  "language_info": {
   "codemirror_mode": {
    "name": "ipython",
    "version": 3
   },
   "file_extension": ".py",
   "mimetype": "text/x-python",
   "name": "python",
   "nbconvert_exporter": "python",
   "pygments_lexer": "ipython3",
   "version": "3.6.4"
  }
 },
 "nbformat": 4,
 "nbformat_minor": 2
}
