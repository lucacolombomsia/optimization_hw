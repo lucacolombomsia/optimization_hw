{
 "cells": [
  {
   "cell_type": "code",
   "execution_count": 1,
   "metadata": {},
   "outputs": [],
   "source": [
    "from pulp import *\n",
    "import pandas as pd\n",
    "from constraint import *"
   ]
  },
  {
   "cell_type": "markdown",
   "metadata": {},
   "source": [
    "### Question 2"
   ]
  },
  {
   "cell_type": "code",
   "execution_count": 2,
   "metadata": {},
   "outputs": [
    {
     "name": "stdout",
     "output_type": "stream",
     "text": [
      "Status: Optimal\n",
      "Prod_A = 75.0\n",
      "Prod_B = 124.0\n",
      "Total Profit of Plan =  37330.0\n",
      "M1 -186.0\n",
      "M1 -336\n",
      "M2 -26.0\n",
      "M2 -336.0\n",
      "M3 0.0\n",
      "M3 -336.0\n"
     ]
    }
   ],
   "source": [
    "#Create a list of all the products\n",
    "Products = [\"A\",\"B\"]\n",
    "\n",
    "#Create a dictionary of the minimum quantity for products\n",
    "MinQ = {\"A\" : 75, \"B\" : 0}\n",
    "\n",
    "#Create a dictionary of the profits per unit for products\n",
    "Profits = {\"A\" : 470, \"B\" : 420}\n",
    "\n",
    "#Create a list of all the machines\n",
    "Machines = [\"M1\",\"M2\",\"M3\"]\n",
    "\n",
    "#Create a Dictionary of Availability\n",
    "#Same value for each machine!\n",
    "MachinesAvailability = 336\n",
    "\n",
    "#Create a list for amount used of each raw material for each product\n",
    "CapacityUsed = {\"A\": {\"M1\": 2, \"M2\": 0, \"M3\": 2},\n",
    "              \"B\":{\"M1\": 0, \"M2\": 2.5, \"M3\": 1.5}\n",
    "             }\n",
    "\n",
    "# Create the 'prob' variable to contain the problem data\n",
    "prob = LpProblem(\"2 products 3 machines\", LpMaximize)\n",
    "\n",
    "# Create the Variables\n",
    "product_vars = {p:LpVariable(\"Prod_{}\".format(p),lowBound=MinQ[p],upBound=140,cat=LpContinuous) for p in Products}\n",
    "\n",
    "# The objective function is added to 'prob' first\n",
    "prob += lpSum([Profits[i]*product_vars[i] for i in Products]) - 50000, \"Total Revenue of Production Plan\"\n",
    "\n",
    "# We can enter the constraints that relate to limited amount of material\n",
    "for r in Machines:\n",
    "    prob += lpSum([product_vars[i]*CapacityUsed[i][r] for i in Products]) <= MachinesAvailability, r\n",
    "\n",
    "# The problem data is written to an .lp file\n",
    "prob.writeLP(\"MachinesProducts.lp\")\n",
    "\n",
    "# The problem is solved using PuLP's choice of Solver\n",
    "prob.solve()\n",
    "\n",
    "# The status of the solution is printed to the screen\n",
    "print(\"Status:\", LpStatus[prob.status])\n",
    "\n",
    "# Each of the variables is printed with it's resolved optimum value\n",
    "for v in prob.variables():\n",
    "    print(v.name, \"=\", v.varValue)\n",
    "\n",
    "# The optimised objective function value is printed to the screen\n",
    "print(\"Total Profit of Plan = \", value(prob.objective))\n",
    "\n",
    "for constraint in prob.constraints:\n",
    "        print(prob.constraints[constraint].name, prob.constraints[constraint].value())\n",
    "        print(prob.constraints[constraint].name, prob.constraints[constraint].constant)"
   ]
  },
  {
   "cell_type": "code",
   "execution_count": 3,
   "metadata": {},
   "outputs": [
    {
     "data": {
      "text/plain": [
       "2 products 3 machines:\n",
       "MAXIMIZE\n",
       "470*Prod_A + 420*Prod_B + -50000\n",
       "SUBJECT TO\n",
       "M1: 2 Prod_A <= 336\n",
       "\n",
       "M2: 2.5 Prod_B <= 336\n",
       "\n",
       "M3: 2 Prod_A + 1.5 Prod_B <= 336\n",
       "\n",
       "VARIABLES\n",
       "75 <= Prod_A <= 140 Continuous\n",
       "Prod_B <= 140 Continuous"
      ]
     },
     "execution_count": 3,
     "metadata": {},
     "output_type": "execute_result"
    }
   ],
   "source": [
    "prob"
   ]
  },
  {
   "cell_type": "markdown",
   "metadata": {},
   "source": [
    "### Question 3"
   ]
  },
  {
   "cell_type": "code",
   "execution_count": 4,
   "metadata": {},
   "outputs": [
    {
     "name": "stdout",
     "output_type": "stream",
     "text": [
      "Status: Optimal\n",
      "Prods_Beef = 0.0\n",
      "Prods_Chicken = 2.5\n",
      "Prods_Fish = 0.0\n",
      "Prods_Ham = 0.0\n",
      "Prods_Meat_Loaf = 3.3333333\n",
      "Prods_Turkey = 0.0\n",
      "Total Cost of Diet =  14.374999925000001\n",
      "C -1.0000000050247593e-08\n",
      "C -1.0\n",
      "B1 -5.000000025123796e-09\n",
      "B1 -1.0\n",
      "B2 -5.000000025123796e-09\n",
      "B2 -1.0\n"
     ]
    }
   ],
   "source": [
    "#start by parsing the data from excel\n",
    "parameters_df = pd.read_excel('HW1 Modeling Problems- Student.xlsx', sheet_name='Diet', skiprows=2, usecols='B:G', index_col=0)\n",
    "parameters_dict = parameters_df.to_dict()\n",
    "\n",
    "#Create a list of all the products\n",
    "Products = list(parameters_df.index)\n",
    "\n",
    "#Create a dictionary of the price per unit for products\n",
    "Prices = parameters_dict.pop('Unit Cost')\n",
    "\n",
    "#Create a list of all the vitamins\n",
    "Vitamins = list(parameters_dict.keys())\n",
    "Vitamins.pop(0)\n",
    "\n",
    "#Create a Dictionary of Availability\n",
    "#Same value for each machine!\n",
    "VitaminsNeed = 1\n",
    "\n",
    "#Create a list for amount used of each raw material for each product\n",
    "VitaminsContent = parameters_dict\n",
    "\n",
    "# Create the 'prob' variable to contain the problem data\n",
    "prob = LpProblem(\"Vitamins\", LpMinimize)\n",
    "\n",
    "# Create the Variables\n",
    "product_vars = LpVariable.dicts(\"Prods\",Products,lowBound=0,upBound=None,cat=LpContinuous)\n",
    "\n",
    "# The objective function is added to 'prob' first\n",
    "prob += lpSum([Prices[i]*product_vars[i] for i in Products]), \"Total Cost of Diet Plan\"\n",
    "\n",
    "# We can enter the constraints that relate to getting the required amounts of vitamins\n",
    "for r in Vitamins:\n",
    "    prob += lpSum([product_vars[i]*VitaminsContent[r][i] for i in Products]) >= VitaminsNeed, r\n",
    "\n",
    "# The problem data is written to an .lp file\n",
    "prob.writeLP(\"Vitamins.lp\")\n",
    "\n",
    "# The problem is solved using PuLP's choice of Solver\n",
    "prob.solve()\n",
    "\n",
    "# The status of the solution is printed to the screen\n",
    "print(\"Status:\", LpStatus[prob.status])\n",
    "\n",
    "# Each of the variables is printed with it's resolved optimum value\n",
    "for v in prob.variables():\n",
    "    print(v.name, \"=\", v.varValue)\n",
    "    \n",
    "# The optimised objective function value is printed to the screen\n",
    "print(\"Total Cost of Diet = \", value(prob.objective))\n",
    "\n",
    "for constraint in prob.constraints:\n",
    "        print(prob.constraints[constraint].name, prob.constraints[constraint].value())\n",
    "        print(prob.constraints[constraint].name, prob.constraints[constraint].constant)"
   ]
  },
  {
   "cell_type": "code",
   "execution_count": 5,
   "metadata": {},
   "outputs": [
    {
     "data": {
      "text/plain": [
       "Vitamins:\n",
       "MINIMIZE\n",
       "4.16*Prods_Beef + 2.75*Prods_Chicken + 3.28*Prods_Fish + 2.91*Prods_Ham + 2.25*Prods_Meat_Loaf + 2.45*Prods_Turkey + 0.0\n",
       "SUBJECT TO\n",
       "C: 0.2 Prods_Beef + 0.1 Prods_Fish + 0.4 Prods_Ham + 0.3 Prods_Meat_Loaf\n",
       " + 0.2 Prods_Turkey >= 1\n",
       "\n",
       "B1: 0.1 Prods_Beef + 0.2 Prods_Chicken + 0.15 Prods_Fish + 0.35 Prods_Ham\n",
       " + 0.15 Prods_Meat_Loaf + 0.15 Prods_Turkey >= 1\n",
       "\n",
       "B2: 0.15 Prods_Beef + 0.2 Prods_Chicken + 0.1 Prods_Fish + 0.1 Prods_Ham\n",
       " + 0.15 Prods_Meat_Loaf + 0.1 Prods_Turkey >= 1\n",
       "\n",
       "VARIABLES\n",
       "Prods_Beef Continuous\n",
       "Prods_Chicken Continuous\n",
       "Prods_Fish Continuous\n",
       "Prods_Ham Continuous\n",
       "Prods_Meat_Loaf Continuous\n",
       "Prods_Turkey Continuous"
      ]
     },
     "execution_count": 5,
     "metadata": {},
     "output_type": "execute_result"
    }
   ],
   "source": [
    "prob"
   ]
  },
  {
   "cell_type": "markdown",
   "metadata": {},
   "source": [
    "### Question 4"
   ]
  },
  {
   "cell_type": "code",
   "execution_count": 6,
   "metadata": {},
   "outputs": [
    {
     "name": "stdout",
     "output_type": "stream",
     "text": [
      "Status: Optimal\n",
      "Quantities_R1_1 = 0.0\n",
      "Quantities_R1_2 = 0.0\n",
      "Quantities_R1_3 = 3457.4074\n",
      "Quantities_R2_1 = 1509.9715\n",
      "Quantities_R2_2 = 0.0\n",
      "Quantities_R2_3 = 3540.0285\n",
      "Quantities_R3_1 = 0.0\n",
      "Quantities_R3_2 = 0.0\n",
      "Quantities_R3_3 = 7100.0\n",
      "Quantities_R4_1 = 3397.4359\n",
      "Quantities_R4_2 = 0.0\n",
      "Quantities_R4_3 = 902.5641\n",
      "Total Profit =  140431.4814199999\n",
      "Max_F1 -5092.5926\n",
      "Max_F1 -10000\n",
      "Min_F1 4907.4074\n",
      "Min_F1 0\n",
      "Max_F2 -999999.0\n",
      "Max_F2 -999999\n",
      "Min_F2 0.0\n",
      "Min_F2 0\n",
      "Max_F3 -984999.0\n",
      "Max_F3 -999999\n",
      "Min_F3 4.547473508864641e-13\n",
      "Min_F3 -15000\n",
      "Octane_F1 9.999999929277692e-05\n",
      "Octane_F1 0\n",
      "Octane_F2 0.0\n",
      "Octane_F2 0\n",
      "Octane_F3 0.00010000000474974513\n",
      "Octane_F3 0\n",
      "Capacity_R1 -542.5926\n",
      "Capacity_R1 -4000\n",
      "Capacity_R2 0.0\n",
      "Capacity_R2 -5050\n",
      "Capacity_R3 0.0\n",
      "Capacity_R3 -7100\n",
      "Capacity_R4 0.0\n",
      "Capacity_R4 -4300\n"
     ]
    }
   ],
   "source": [
    "#Create a list of all the fuel mixes\n",
    "Fuels = [\"F1\",\"F2\", \"F3\"]\n",
    "\n",
    "#Create a list of all the raw materials\n",
    "RawGas = [\"R1\", \"R2\", \"R3\", \"R4\"]\n",
    "\n",
    "#Create a dictionary of the minimum quantity for fuel mixes\n",
    "MinQ = {\"F1\" : 0, \"F2\" : 0, \"F3\" : 15000}\n",
    "\n",
    "#Create a dictionary of the maximum quantity for fuel mixes\n",
    "MaxQ = {\"F1\" : 10000, \"F2\" : 999999, \"F3\" : 999999}\n",
    "\n",
    "#Create a dictionary of the unit price of the fuel mixes\n",
    "Prices = {\"F1\" : 45.15, \"F2\" : 42.95, \"F3\" : 40.99}\n",
    "\n",
    "#Create a list of all the quantities of raw gas types in fuel mixes\n",
    "Quantities = [\"R1_1\",\"R2_1\",\"R3_1\",\"R4_1\",\n",
    "              \"R1_2\",\"R2_2\",\"R3_2\",\"R4_2\",\n",
    "              \"R1_3\",\"R2_3\",\"R3_3\",\"R4_3\"]\n",
    "\n",
    "#Create a list for amount used of each raw material for each product\n",
    "OctaneConstraints = {\"F1\": {\"R1\":-27, \"R2\":-9,\"R3\":-4,\"R4\":4},\n",
    "                     \"F2\": {\"R1\":-22, \"R2\":-4, \"R3\":1, \"R4\":9},\n",
    "                     \"F3\": {\"R1\":-17, \"R2\":1, \"R3\":6, \"R4\":14}}\n",
    "\n",
    "#Create a dictionary of the capacity constraints\n",
    "Capacity = {\"R1\":4000, \"R2\":5050, \"R3\":7100, \"R4\":4300}\n",
    "                     \n",
    "#Compute total cost of raw material (raw gas types)\n",
    "Unit_Cost = [31.02, 33.15, 36.35, 38.7]\n",
    "RawGasQ = [4000, 5050, 7100, 4300]\n",
    "Total_Cost = sum([x[0]*x[1] for x in zip(Unit_Cost, RawGasQ)])\n",
    "\n",
    "#Create list of resell prices for unused raw materials\n",
    "resell_prices = [36.85, 36.85, 38.95, 38.95]\n",
    "\n",
    "# Create the 'prob' variable to contain the problem data\n",
    "prob = LpProblem(\"Fuel Mix\", LpMaximize)\n",
    "\n",
    "# Create the Variable for percentages of raw gas types in fuel mixes\n",
    "quantities_vars = LpVariable.dicts(\"Quantities\",Quantities,lowBound=0,upBound=None,cat=LpContinuous)\n",
    "\n",
    "# The objective function is added to 'prob' first\n",
    "prob += (lpSum([quantities_vars['R1_{}'.format(i[1])]*Prices[i] for i in Fuels]) +\n",
    "         lpSum([quantities_vars['R2_{}'.format(i[1])]*Prices[i] for i in Fuels]) +\n",
    "         lpSum([quantities_vars['R3_{}'.format(i[1])]*Prices[i] for i in Fuels]) +\n",
    "         lpSum([quantities_vars['R4_{}'.format(i[1])]*Prices[i] for i in Fuels]) +\n",
    "         (RawGasQ[0] - lpSum([quantities_vars[i] for i in Quantities if 'R1' in i]))* resell_prices[0] -\n",
    "         (RawGasQ[1] - lpSum([quantities_vars[i] for i in Quantities if 'R2' in i]))* resell_prices[1] -\n",
    "         (RawGasQ[2] - lpSum([quantities_vars[i] for i in Quantities if 'R3' in i]))* resell_prices[2] -\n",
    "         (RawGasQ[3] - lpSum([quantities_vars[i] for i in Quantities if 'R4' in i]))* resell_prices[3] -\n",
    "         Total_Cost), \"Total Profit from Fuel Production\"\n",
    "\n",
    "# We can enter the constraints that relate to meeting the demand\n",
    "for r in Fuels:\n",
    "    prob += lpSum([quantities_vars[i] for i in Quantities if i[3]==r[1]]) <= MaxQ[r], 'Max_{}'.format(r)\n",
    "    prob += lpSum([quantities_vars[i] for i in Quantities if i[3]==r[1]]) >= MinQ[r], 'Min_{}'.format(r)\n",
    "\n",
    "# We can enter the constraints that relate to meeting the octane constraints\n",
    "for r in Fuels:\n",
    "    prob += lpSum([quantities_vars['{}_{}'.format(i, r[1])]*OctaneConstraints[r][i] for i in RawGas]) >= 0, 'Octane_{}'.format(r)\n",
    "    \n",
    "# We can enter the capacity constraints\n",
    "for i in RawGas:\n",
    "    prob += lpSum([quantities_vars['{}_{}'.format(i, r[1])] for r in Fuels]) <= Capacity[i], 'Capacity_{}'.format(i)\n",
    "\n",
    "# The problem data is written to an .lp file\n",
    "prob.writeLP(\"FuelMix.lp\")\n",
    "\n",
    "# The problem is solved using PuLP's choice of Solver\n",
    "prob.solve()\n",
    "\n",
    "# The status of the solution is printed to the screen\n",
    "print(\"Status:\", LpStatus[prob.status])\n",
    "\n",
    "# Each of the variables is printed with it's resolved optimum value\n",
    "for v in prob.variables():\n",
    "    print(v.name, \"=\", v.varValue)\n",
    "\n",
    "# The optimised objective function value is printed to the screen\n",
    "print(\"Total Profit = \", value(prob.objective))\n",
    "\n",
    "for constraint in prob.constraints:\n",
    "        print(prob.constraints[constraint].name, prob.constraints[constraint].value())\n",
    "        print(prob.constraints[constraint].name, prob.constraints[constraint].constant)"
   ]
  },
  {
   "cell_type": "code",
   "execution_count": 7,
   "metadata": {},
   "outputs": [
    {
     "data": {
      "text/plain": [
       "Fuel Mix:\n",
       "MAXIMIZE\n",
       "8.299999999999997*Quantities_R1_1 + 6.100000000000001*Quantities_R1_2 + 4.140000000000001*Quantities_R1_3 + 82.0*Quantities_R2_1 + 79.80000000000001*Quantities_R2_2 + 77.84*Quantities_R2_3 + 84.1*Quantities_R3_1 + 81.9*Quantities_R3_2 + 79.94*Quantities_R3_3 + 84.1*Quantities_R4_1 + 81.9*Quantities_R4_2 + 79.94*Quantities_R4_3 + -1198705.0\n",
       "SUBJECT TO\n",
       "Max_F1: Quantities_R1_1 + Quantities_R2_1 + Quantities_R3_1 + Quantities_R4_1\n",
       " <= 10000\n",
       "\n",
       "Min_F1: Quantities_R1_1 + Quantities_R2_1 + Quantities_R3_1 + Quantities_R4_1\n",
       " >= 0\n",
       "\n",
       "Max_F2: Quantities_R1_2 + Quantities_R2_2 + Quantities_R3_2 + Quantities_R4_2\n",
       " <= 999999\n",
       "\n",
       "Min_F2: Quantities_R1_2 + Quantities_R2_2 + Quantities_R3_2 + Quantities_R4_2\n",
       " >= 0\n",
       "\n",
       "Max_F3: Quantities_R1_3 + Quantities_R2_3 + Quantities_R3_3 + Quantities_R4_3\n",
       " <= 999999\n",
       "\n",
       "Min_F3: Quantities_R1_3 + Quantities_R2_3 + Quantities_R3_3 + Quantities_R4_3\n",
       " >= 15000\n",
       "\n",
       "Octane_F1: - 27 Quantities_R1_1 - 9 Quantities_R2_1 - 4 Quantities_R3_1\n",
       " + 4 Quantities_R4_1 >= 0\n",
       "\n",
       "Octane_F2: - 22 Quantities_R1_2 - 4 Quantities_R2_2 + Quantities_R3_2\n",
       " + 9 Quantities_R4_2 >= 0\n",
       "\n",
       "Octane_F3: - 17 Quantities_R1_3 + Quantities_R2_3 + 6 Quantities_R3_3\n",
       " + 14 Quantities_R4_3 >= 0\n",
       "\n",
       "Capacity_R1: Quantities_R1_1 + Quantities_R1_2 + Quantities_R1_3 <= 4000\n",
       "\n",
       "Capacity_R2: Quantities_R2_1 + Quantities_R2_2 + Quantities_R2_3 <= 5050\n",
       "\n",
       "Capacity_R3: Quantities_R3_1 + Quantities_R3_2 + Quantities_R3_3 <= 7100\n",
       "\n",
       "Capacity_R4: Quantities_R4_1 + Quantities_R4_2 + Quantities_R4_3 <= 4300\n",
       "\n",
       "VARIABLES\n",
       "Quantities_R1_1 Continuous\n",
       "Quantities_R1_2 Continuous\n",
       "Quantities_R1_3 Continuous\n",
       "Quantities_R2_1 Continuous\n",
       "Quantities_R2_2 Continuous\n",
       "Quantities_R2_3 Continuous\n",
       "Quantities_R3_1 Continuous\n",
       "Quantities_R3_2 Continuous\n",
       "Quantities_R3_3 Continuous\n",
       "Quantities_R4_1 Continuous\n",
       "Quantities_R4_2 Continuous\n",
       "Quantities_R4_3 Continuous"
      ]
     },
     "execution_count": 7,
     "metadata": {},
     "output_type": "execute_result"
    }
   ],
   "source": [
    "prob"
   ]
  },
  {
   "cell_type": "markdown",
   "metadata": {},
   "source": [
    "### Question 5"
   ]
  },
  {
   "cell_type": "code",
   "execution_count": 9,
   "metadata": {},
   "outputs": [
    {
     "name": "stdout",
     "output_type": "stream",
     "text": [
      "Status: Optimal\n",
      "Shift_A = 0.0\n",
      "Shift_B = 10.0\n",
      "Shift_C = 0.0\n",
      "Shift_D = 12.0\n",
      "Shift_E = 0.0\n",
      "Shift_F = 4.0\n",
      "Total Number of Nurses =  26.0\n",
      "Covering_shift_A 0.0\n",
      "Covering_shift_A -4\n",
      "Covering_shift_B 2.0\n",
      "Covering_shift_B -8\n",
      "Covering_shift_C 0.0\n",
      "Covering_shift_C -10\n",
      "Covering_shift_D 5.0\n",
      "Covering_shift_D -7\n",
      "Covering_shift_E 0.0\n",
      "Covering_shift_E -12\n",
      "Covering_shift_F 0.0\n",
      "Covering_shift_F -4\n"
     ]
    }
   ],
   "source": [
    "#Create a list of all the shifts\n",
    "Shifts = [\"A\",\"B\",\"C\",\"D\",\"E\",\"F\"]\n",
    "\n",
    "#Create a dictionary of the minimum number of nurses per shift\n",
    "MinQ = {\"A\":4, \"B\":8, \"C\":10, \"D\":7, \"E\":12, \"F\":4}\n",
    "\n",
    "# Create the 'prob' variable to contain the problem data\n",
    "prob = LpProblem(\"Scheduling Nurses\", LpMinimize)\n",
    "\n",
    "# Create the Variables\n",
    "shifts_vars = LpVariable.dicts(\"Shift\",Shifts,lowBound=0,upBound=None,cat=LpContinuous)\n",
    "\n",
    "# The objective function is added to 'prob' first\n",
    "prob += lpSum([shifts_vars[i] for i in Shifts]), \"Total Number of Nurses\"\n",
    "\n",
    "# We can enter the constraints that relate to limited amount of material\n",
    "for i in range(-1, 5):\n",
    "    a = Shifts[i]\n",
    "    b = Shifts[i+1]\n",
    "    prob += lpSum(shifts_vars[a] + shifts_vars[b]) >= MinQ[b], 'Covering shift {}'.format(b)\n",
    "\n",
    "# The problem data is written to an .lp file\n",
    "prob.writeLP(\"SchedulingNurses.lp\")\n",
    "\n",
    "# The problem is solved using PuLP's choice of Solver\n",
    "prob.solve()\n",
    "\n",
    "# The status of the solution is printed to the screen\n",
    "print(\"Status:\", LpStatus[prob.status])\n",
    "\n",
    "# Each of the variables is printed with it's resolved optimum value\n",
    "for v in prob.variables():\n",
    "    print(v.name, \"=\", v.varValue)\n",
    "\n",
    "# The optimised objective function value is printed to the screen\n",
    "print(\"Total Number of Nurses = \", value(prob.objective))\n",
    "\n",
    "for constraint in prob.constraints:\n",
    "        print(prob.constraints[constraint].name, prob.constraints[constraint].value())\n",
    "        print(prob.constraints[constraint].name, prob.constraints[constraint].constant)"
   ]
  },
  {
   "cell_type": "code",
   "execution_count": 14,
   "metadata": {},
   "outputs": [
    {
     "data": {
      "text/plain": [
       "Cutting stock:\n",
       "MINIMIZE\n",
       "1*Pattern_p1 + 4*Pattern_p2 + 3*Pattern_p3 + 2*Pattern_p4 + 1*Pattern_p5 + 0\n",
       "SUBJECT TO\n",
       "O1: Pattern_p1 + 2 Pattern_p3 + 2 Pattern_p5 + 4 Pattern_p6 >= 150\n",
       "\n",
       "O2: 2 Pattern_p1 + Pattern_p2 + Pattern_p3 >= 200\n",
       "\n",
       "O3: Pattern_p2 + 2 Pattern_p4 + Pattern_p5 >= 300\n",
       "\n",
       "VARIABLES\n",
       "0 <= Pattern_p1 Integer\n",
       "0 <= Pattern_p2 Integer\n",
       "0 <= Pattern_p3 Integer\n",
       "0 <= Pattern_p4 Integer\n",
       "0 <= Pattern_p5 Integer\n",
       "0 <= Pattern_p6 Integer"
      ]
     },
     "execution_count": 14,
     "metadata": {},
     "output_type": "execute_result"
    }
   ],
   "source": [
    "prob"
   ]
  },
  {
   "cell_type": "markdown",
   "metadata": {},
   "source": [
    "### Question 6"
   ]
  },
  {
   "cell_type": "code",
   "execution_count": 10,
   "metadata": {},
   "outputs": [],
   "source": [
    "def get_waste(p):\n",
    "    return 20 - (p['a']*5 + p['b']*7 + p['c']*9)\n",
    "\n",
    "#list all possible patterns that solve the problem\n",
    "problem = Problem()\n",
    "problem.addVariable(\"a\", [0,1,2,3,4])\n",
    "problem.addVariable(\"b\", [0,1,2])\n",
    "problem.addVariable(\"c\", [0,1,2])\n",
    "problem.addConstraint(lambda a, b, c: a*5 + b*7 + c*9 <= 20,\n",
    "                          (\"a\", \"b\", \"c\"))\n",
    "problem.addConstraint(lambda a, b, c: a*5 + b*7 + c*9 > 15,\n",
    "                          (\"a\", \"b\", \"c\"))\n",
    "\n",
    "solutions = problem.getSolutions()\n",
    "solutions_dict = {\"p{}\".format(i+1) : solutions[i] for i in range(len(solutions))}"
   ]
  },
  {
   "cell_type": "code",
   "execution_count": 11,
   "metadata": {},
   "outputs": [
    {
     "name": "stdout",
     "output_type": "stream",
     "text": [
      "Status: Optimal\n",
      "Pattern_p1 = 100.0\n",
      "Pattern_p2 = 0.0\n",
      "Pattern_p3 = 0.0\n",
      "Pattern_p4 = 150.0\n",
      "Pattern_p5 = 0.0\n",
      "Pattern_p6 = 13.0\n",
      "Total Waste =  400.0\n",
      "Total Number of 20-ft rolls =  263.0\n",
      "O1 2.0\n",
      "O1 -150\n",
      "O2 0.0\n",
      "O2 -200\n",
      "O3 0.0\n",
      "O3 -300\n"
     ]
    }
   ],
   "source": [
    "#Create a list of all the patterns\n",
    "Patterns = list(solutions_dict.keys())\n",
    "\n",
    "#Create a dictionary of the waste per unit for products\n",
    "Waste = {Patterns[i] : get_waste(solutions[i]) for i in range(len(solutions))}\n",
    "\n",
    "#Create a list of all the orders\n",
    "Orders = [\"O1\",\"O2\",\"O3\"]\n",
    "\n",
    "#Create a Dictionary of Minimum quantities per order\n",
    "MinQuantity = {\"O1\": 150,\n",
    "                   \"O2\": 200,\n",
    "                   \"O3\": 300}\n",
    "\n",
    "#Create a list of how each pattern contributes to satisfying an order\n",
    "CapacityUsed = {\"O1\" : {Patterns[i] : solutions[i]['a'] for i in range(len(solutions))},\n",
    "              \"O2\" : {Patterns[i] : solutions[i]['b'] for i in range(len(solutions))},\n",
    "              \"O3\" : {Patterns[i] : solutions[i]['c'] for i in range(len(solutions))},  \n",
    "             }\n",
    "\n",
    "# Create the 'prob' variable to contain the problem data\n",
    "prob = LpProblem(\"Cutting stock\", LpMinimize)\n",
    "\n",
    "# Create the Variables\n",
    "pattern_vars = LpVariable.dicts(\"Pattern\",Patterns,lowBound=0,upBound=None,cat=LpInteger)\n",
    "\n",
    "# The objective function is added to 'prob' first\n",
    "prob += lpSum([Waste[i]*pattern_vars[i] for i in Patterns]), \"Total Waste of Production Plan\"\n",
    "\n",
    "# We can enter the constraints that relate to limited amount of material\n",
    "for r in Orders:\n",
    "    prob += lpSum([pattern_vars[i]*CapacityUsed[r][i] for i in Patterns]) >= MinQuantity[r], r\n",
    "    \n",
    "# The problem data is written to an .lp file\n",
    "prob.writeLP(\"CuttingStock.lp\")\n",
    "\n",
    "# The problem is solved using PuLP's choice of Solver\n",
    "prob.solve()\n",
    "\n",
    "# The status of the solution is printed to the screen\n",
    "print(\"Status:\", LpStatus[prob.status])\n",
    "\n",
    "# Each of the variables is printed with it's resolved optimum value\n",
    "tot_rolls = 0\n",
    "for v in prob.variables():\n",
    "    print(v.name, \"=\", v.varValue)\n",
    "    tot_rolls += v.varValue\n",
    "    \n",
    "# The optimised objective function value is printed to the screen\n",
    "print(\"Total Waste = \", value(prob.objective))\n",
    "\n",
    "# The number of paper rolls used is printed to the screen\n",
    "print(\"Total Number of 20-ft rolls = \", tot_rolls)\n",
    "\n",
    "for constraint in prob.constraints:\n",
    "        print(prob.constraints[constraint].name, prob.constraints[constraint].value())\n",
    "        print(prob.constraints[constraint].name, prob.constraints[constraint].constant)"
   ]
  },
  {
   "cell_type": "code",
   "execution_count": 12,
   "metadata": {},
   "outputs": [
    {
     "data": {
      "text/plain": [
       "{'p1': {'a': 1, 'b': 2, 'c': 0},\n",
       " 'p2': {'a': 0, 'b': 1, 'c': 1},\n",
       " 'p3': {'a': 2, 'b': 1, 'c': 0},\n",
       " 'p4': {'a': 0, 'b': 0, 'c': 2},\n",
       " 'p5': {'a': 2, 'b': 0, 'c': 1},\n",
       " 'p6': {'a': 4, 'b': 0, 'c': 0}}"
      ]
     },
     "execution_count": 12,
     "metadata": {},
     "output_type": "execute_result"
    }
   ],
   "source": [
    "solutions_dict"
   ]
  },
  {
   "cell_type": "code",
   "execution_count": 13,
   "metadata": {},
   "outputs": [
    {
     "data": {
      "text/plain": [
       "Cutting stock:\n",
       "MINIMIZE\n",
       "1*Pattern_p1 + 4*Pattern_p2 + 3*Pattern_p3 + 2*Pattern_p4 + 1*Pattern_p5 + 0\n",
       "SUBJECT TO\n",
       "O1: Pattern_p1 + 2 Pattern_p3 + 2 Pattern_p5 + 4 Pattern_p6 >= 150\n",
       "\n",
       "O2: 2 Pattern_p1 + Pattern_p2 + Pattern_p3 >= 200\n",
       "\n",
       "O3: Pattern_p2 + 2 Pattern_p4 + Pattern_p5 >= 300\n",
       "\n",
       "VARIABLES\n",
       "0 <= Pattern_p1 Integer\n",
       "0 <= Pattern_p2 Integer\n",
       "0 <= Pattern_p3 Integer\n",
       "0 <= Pattern_p4 Integer\n",
       "0 <= Pattern_p5 Integer\n",
       "0 <= Pattern_p6 Integer"
      ]
     },
     "execution_count": 13,
     "metadata": {},
     "output_type": "execute_result"
    }
   ],
   "source": [
    "prob"
   ]
  },
  {
   "cell_type": "code",
   "execution_count": null,
   "metadata": {},
   "outputs": [],
   "source": []
  },
  {
   "cell_type": "code",
   "execution_count": null,
   "metadata": {},
   "outputs": [],
   "source": []
  },
  {
   "cell_type": "code",
   "execution_count": null,
   "metadata": {},
   "outputs": [],
   "source": []
  },
  {
   "cell_type": "code",
   "execution_count": null,
   "metadata": {},
   "outputs": [],
   "source": []
  }
 ],
 "metadata": {
  "kernelspec": {
   "display_name": "Python 3",
   "language": "python",
   "name": "python3"
  },
  "language_info": {
   "codemirror_mode": {
    "name": "ipython",
    "version": 3
   },
   "file_extension": ".py",
   "mimetype": "text/x-python",
   "name": "python",
   "nbconvert_exporter": "python",
   "pygments_lexer": "ipython3",
   "version": "3.6.4"
  }
 },
 "nbformat": 4,
 "nbformat_minor": 2
}
