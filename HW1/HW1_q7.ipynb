{
 "cells": [
  {
   "cell_type": "markdown",
   "metadata": {},
   "source": [
    "# Homework 1 - Part 2 - Group 4\n",
    "## Luca Colombo, Jill Fan, Rishabh Joshi"
   ]
  },
  {
   "cell_type": "code",
   "execution_count": 1,
   "metadata": {},
   "outputs": [],
   "source": [
    "from pulp import *\n",
    "import itertools"
   ]
  },
  {
   "cell_type": "markdown",
   "metadata": {},
   "source": [
    "### Question 7"
   ]
  },
  {
   "cell_type": "code",
   "execution_count": 2,
   "metadata": {},
   "outputs": [
    {
     "name": "stdout",
     "output_type": "stream",
     "text": [
      "Status: Optimal\n",
      "var_P1_M1 = 0.0\n",
      "var_P1_M2 = 80.0\n",
      "var_P2_M1 = 30.0\n",
      "var_P2_M2 = 70.0\n",
      "var_P3_M1 = 70.0\n",
      "var_P3_M2 = 0.0\n",
      "var_P4_M1 = 130.0\n",
      "var_P4_M2 = 0.0\n",
      "Total Cost =  8500.0\n",
      "Plant_P1 0.0\n",
      "Plant_P1 -80\n",
      "Plant_P2 0.0\n",
      "Plant_P2 -100\n",
      "Plant_P3 0.0\n",
      "Plant_P3 -70\n",
      "Plant_P4 0.0\n",
      "Plant_P4 -130\n",
      "Mine_M1 0.0\n",
      "Mine_M1 -230\n",
      "Mine_M2 0.0\n",
      "Mine_M2 -150\n"
     ]
    }
   ],
   "source": [
    "#Create a list of all the plants\n",
    "Plants = [\"P1\",\"P2\",\"P3\",\"P4\"]\n",
    "\n",
    "#Create a dictionary of the minimum quantity to each plant\n",
    "PlantsConst = {\"P1\":80, \"P2\":100, \"P3\":70, \"P4\":130}\n",
    "\n",
    "#Create a list of all the mines\n",
    "Mines = [\"M1\",\"M2\"]\n",
    "\n",
    "#Create a dictionary of the maximum quantity from each mine\n",
    "MinesConst = {\"M1\":230, \"M2\":150}\n",
    "\n",
    "#Create a list of all the plant-mines pairs\n",
    "Plant_Mines = ['{}_{}'.format(x[0], x[1]) for x in itertools.product(Plants, Mines)]\n",
    "\n",
    "#Create a dictionary for amount used of each raw material for each product\n",
    "Transportation_Costs = {\"M1\": {\"P1\":65, \"P2\":40, \"P3\":30, \"P4\":15},\n",
    "                        \"M2\": {\"P1\":10, \"P2\":35, \"P3\":40, \"P4\":60}}\n",
    "\n",
    "# Create the 'prob' variable to contain the problem data\n",
    "prob = LpProblem(\"Coal Mines\", LpMinimize)\n",
    "\n",
    "# Create the Variable for percentages of raw gas types in fuel mixes\n",
    "PM_vars = LpVariable.dicts(\"var\",Plant_Mines,lowBound=0,upBound=None,cat=LpContinuous)\n",
    "\n",
    "# The objective function is added to 'prob' first\n",
    "prob += lpSum([PM_vars[i] * Transportation_Costs[i[3:5]][i[0:2]] for i in Plant_Mines]), 'Total cost of Transportation'\n",
    "\n",
    "# We can enter the constraints that relate to the plants\n",
    "for r in Plants:\n",
    "    prob += lpSum([PM_vars['{}_{}'.format(r, i)] for i in Mines]) >= PlantsConst[r], 'Plant_{}'.format(r)\n",
    "\n",
    "# We can enter the constraints that relate to the mines\n",
    "for r in Mines:\n",
    "    prob += lpSum([PM_vars['{}_{}'.format(i, r)] for i in Plants]) <= MinesConst[r], 'Mine_{}'.format(r)\n",
    "    \n",
    "# The problem data is written to an .lp file\n",
    "prob.writeLP(\"PlantsMines.lp\")\n",
    "\n",
    "# The problem is solved using PuLP's choice of Solver\n",
    "prob.solve()\n",
    "\n",
    "# The status of the solution is printed to the screen\n",
    "print(\"Status:\", LpStatus[prob.status])\n",
    "\n",
    "# Each of the variables is printed with it's resolved optimum value\n",
    "for v in prob.variables():\n",
    "    print(v.name, \"=\", v.varValue)\n",
    "\n",
    "# The optimised objective function value is printed to the screen\n",
    "print(\"Total Cost = \", value(prob.objective))\n",
    "\n",
    "for constraint in prob.constraints:\n",
    "        print(prob.constraints[constraint].name, prob.constraints[constraint].value())\n",
    "        print(prob.constraints[constraint].name, prob.constraints[constraint].constant)"
   ]
  },
  {
   "cell_type": "code",
   "execution_count": 3,
   "metadata": {},
   "outputs": [
    {
     "data": {
      "text/plain": [
       "Coal Mines:\n",
       "MINIMIZE\n",
       "65*var_P1_M1 + 10*var_P1_M2 + 40*var_P2_M1 + 35*var_P2_M2 + 30*var_P3_M1 + 40*var_P3_M2 + 15*var_P4_M1 + 60*var_P4_M2 + 0\n",
       "SUBJECT TO\n",
       "Plant_P1: var_P1_M1 + var_P1_M2 >= 80\n",
       "\n",
       "Plant_P2: var_P2_M1 + var_P2_M2 >= 100\n",
       "\n",
       "Plant_P3: var_P3_M1 + var_P3_M2 >= 70\n",
       "\n",
       "Plant_P4: var_P4_M1 + var_P4_M2 >= 130\n",
       "\n",
       "Mine_M1: var_P1_M1 + var_P2_M1 + var_P3_M1 + var_P4_M1 <= 230\n",
       "\n",
       "Mine_M2: var_P1_M2 + var_P2_M2 + var_P3_M2 + var_P4_M2 <= 150\n",
       "\n",
       "VARIABLES\n",
       "var_P1_M1 Continuous\n",
       "var_P1_M2 Continuous\n",
       "var_P2_M1 Continuous\n",
       "var_P2_M2 Continuous\n",
       "var_P3_M1 Continuous\n",
       "var_P3_M2 Continuous\n",
       "var_P4_M1 Continuous\n",
       "var_P4_M2 Continuous"
      ]
     },
     "execution_count": 3,
     "metadata": {},
     "output_type": "execute_result"
    }
   ],
   "source": [
    "prob"
   ]
  },
  {
   "cell_type": "code",
   "execution_count": null,
   "metadata": {},
   "outputs": [],
   "source": []
  }
 ],
 "metadata": {
  "kernelspec": {
   "display_name": "Python 3",
   "language": "python",
   "name": "python3"
  },
  "language_info": {
   "codemirror_mode": {
    "name": "ipython",
    "version": 3
   },
   "file_extension": ".py",
   "mimetype": "text/x-python",
   "name": "python",
   "nbconvert_exporter": "python",
   "pygments_lexer": "ipython3",
   "version": "3.6.4"
  }
 },
 "nbformat": 4,
 "nbformat_minor": 2
}
