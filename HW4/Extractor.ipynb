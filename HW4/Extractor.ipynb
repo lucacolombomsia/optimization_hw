{
 "cells": [
  {
   "cell_type": "code",
   "execution_count": 1,
   "metadata": {},
   "outputs": [],
   "source": [
    "import os\n",
    "import pandas as pd"
   ]
  },
  {
   "cell_type": "code",
   "execution_count": 6,
   "metadata": {},
   "outputs": [],
   "source": [
    "summaries = sorted([file for file in os.listdir() if 'summary.txt' in file])"
   ]
  },
  {
   "cell_type": "code",
   "execution_count": 12,
   "metadata": {},
   "outputs": [],
   "source": [
    "df = pd.DataFrame(columns=['scenario', 'cost'])\n",
    "\n",
    "for file_name in summaries:\n",
    "    with open(file_name, 'r') as file:\n",
    "        summary = file.readlines()\n",
    "        summary = [line.rstrip('\\n') for line in summary]\n",
    "    cost = float(summary[9].split(': ')[1])\n",
    "    scenario = file_name.replace('_summary.txt', '')\n",
    "    my_dict = {'scenario' : scenario, 'cost' : cost}\n",
    "    df = df.append(my_dict, ignore_index = True)\n",
    "    \n",
    "df.to_csv('all_costs.csv', index = False)"
   ]
  },
  {
   "cell_type": "code",
   "execution_count": null,
   "metadata": {},
   "outputs": [],
   "source": []
  }
 ],
 "metadata": {
  "kernelspec": {
   "display_name": "Python 3",
   "language": "python",
   "name": "python3"
  },
  "language_info": {
   "codemirror_mode": {
    "name": "ipython",
    "version": 3
   },
   "file_extension": ".py",
   "mimetype": "text/x-python",
   "name": "python",
   "nbconvert_exporter": "python",
   "pygments_lexer": "ipython3",
   "version": "3.6.4"
  }
 },
 "nbformat": 4,
 "nbformat_minor": 2
}
