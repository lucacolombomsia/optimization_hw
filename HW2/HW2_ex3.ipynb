{
 "cells": [
  {
   "cell_type": "markdown",
   "metadata": {},
   "source": [
    "# Homework 2 - Exercise 3 - Group 4\n",
    "## Luca Colombo, Jill Fan, Rishabh Joshi"
   ]
  },
  {
   "cell_type": "code",
   "execution_count": 1,
   "metadata": {},
   "outputs": [],
   "source": [
    "from model import model"
   ]
  },
  {
   "cell_type": "markdown",
   "metadata": {},
   "source": [
    "## Data"
   ]
  },
  {
   "cell_type": "code",
   "execution_count": 2,
   "metadata": {},
   "outputs": [],
   "source": [
    "#Create a dictionary of the minimum quantity for the 2 products\n",
    "MinQ = {\"A\" : 90, \"B\" : 90}\n",
    "\n",
    "#Create a dictionary of the maximum quantity for the 2 products\n",
    "MaxQ = {\"A\" : 140, \"B\" : 140}"
   ]
  },
  {
   "cell_type": "code",
   "execution_count": 3,
   "metadata": {},
   "outputs": [
    {
     "name": "stdout",
     "output_type": "stream",
     "text": [
      "Status: Optimal\n",
      "Product_A = 90.0\n",
      "Product_B = 104.0\n",
      "Total Profit of Plan =  35980.0\n",
      "Total usage of machine M1: 180.0 hours\n",
      "Total availability of machine M1: 336 hours\n",
      "Total usage of machine M2: 260.0 hours\n",
      "Total availability of machine M2: 336 hours\n",
      "Total usage of machine M3: 336.0 hours\n",
      "Total availability of machine M3: 336 hours\n"
     ]
    }
   ],
   "source": [
    "model(MinQ, MaxQ)"
   ]
  },
  {
   "cell_type": "code",
   "execution_count": null,
   "metadata": {},
   "outputs": [],
   "source": []
  }
 ],
 "metadata": {
  "kernelspec": {
   "display_name": "Python 3",
   "language": "python",
   "name": "python3"
  },
  "language_info": {
   "codemirror_mode": {
    "name": "ipython",
    "version": 3
   },
   "file_extension": ".py",
   "mimetype": "text/x-python",
   "name": "python",
   "nbconvert_exporter": "python",
   "pygments_lexer": "ipython3",
   "version": "3.6.4"
  }
 },
 "nbformat": 4,
 "nbformat_minor": 2
}
